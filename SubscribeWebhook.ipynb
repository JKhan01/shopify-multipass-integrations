{
 "cells": [
  {
   "cell_type": "code",
   "execution_count": 3,
   "metadata": {},
   "outputs": [
    {
     "name": "stdout",
     "output_type": "stream",
     "text": [
      "Collecting requests\n",
      "  Downloading requests-2.27.1-py2.py3-none-any.whl (63 kB)\n",
      "Collecting urllib3<1.27,>=1.21.1\n",
      "  Downloading urllib3-1.26.9-py2.py3-none-any.whl (138 kB)\n",
      "Collecting idna<4,>=2.5\n",
      "  Downloading idna-3.3-py3-none-any.whl (61 kB)\n",
      "Collecting charset-normalizer~=2.0.0\n",
      "  Downloading charset_normalizer-2.0.12-py3-none-any.whl (39 kB)\n",
      "Requirement already satisfied: certifi>=2017.4.17 in c:\\users\\humja\\anaconda3\\envs\\shopify_multipass\\lib\\site-packages (from requests) (2022.5.18.1)\n",
      "Installing collected packages: urllib3, idna, charset-normalizer, requests\n",
      "Successfully installed charset-normalizer-2.0.12 idna-3.3 requests-2.27.1 urllib3-1.26.9\n"
     ]
    }
   ],
   "source": [
    "%pip install requests"
   ]
  },
  {
   "cell_type": "code",
   "execution_count": 15,
   "metadata": {},
   "outputs": [],
   "source": [
    "import json"
   ]
  },
  {
   "cell_type": "code",
   "execution_count": 16,
   "metadata": {},
   "outputs": [],
   "source": [
    "import requests as re\n",
    "import os\n",
    "from dotenv import load_dotenv"
   ]
  },
  {
   "cell_type": "code",
   "execution_count": 17,
   "metadata": {},
   "outputs": [],
   "source": [
    "load_dotenv()\n",
    "\n",
    "app_url = os.environ['SHOPIFY_STORE_URL']\n",
    "request_url = f\"{app_url}/admin/api/2022-04/webhooks.json\"\n",
    "\n",
    "data_post_url = os.environ[\"NGROK_SERVER_URL\"]+ \"/checkout\"\n",
    "\n",
    "access_token = os.environ[\"WEBHOOK_APP_ACCESS_TOKEN\"]\n"
   ]
  },
  {
   "cell_type": "code",
   "execution_count": 18,
   "metadata": {},
   "outputs": [],
   "source": [
    "payload_data = {\n",
    "  \"webhook\": {\n",
    "    \"topic\": \"orders/create\",\n",
    "    \"address\": data_post_url,\n",
    "    \"format\": \"json\"\n",
    "  }\n",
    "}\n",
    "\n",
    "header_data = {\n",
    "    \"X-Shopify-Access-Token\":access_token,\n",
    "    \"Content-Type\": \"application/json; charset=utf-8\"\n",
    "}"
   ]
  },
  {
   "cell_type": "code",
   "execution_count": 6,
   "metadata": {},
   "outputs": [
    {
     "name": "stdout",
     "output_type": "stream",
     "text": [
      "https://teedee-shops.myshopify.com/admin/api/2022-04/webhooks.json\n"
     ]
    }
   ],
   "source": [
    "print (request_url)"
   ]
  },
  {
   "cell_type": "code",
   "execution_count": 30,
   "metadata": {},
   "outputs": [],
   "source": [
    "resp = re.post(url=request_url, json=payload_data, headers=header_data)"
   ]
  },
  {
   "cell_type": "code",
   "execution_count": 32,
   "metadata": {},
   "outputs": [
    {
     "data": {
      "text/plain": [
       "{'webhook': {'id': 1121373618333,\n",
       "  'address': 'https://2d83-1-186-182-156.in.ngrok.io/checkout',\n",
       "  'topic': 'orders/create',\n",
       "  'created_at': '2022-05-30T11:38:42+05:30',\n",
       "  'updated_at': '2022-05-30T11:38:42+05:30',\n",
       "  'format': 'json',\n",
       "  'fields': [],\n",
       "  'metafield_namespaces': [],\n",
       "  'api_version': '2022-04',\n",
       "  'private_metafield_namespaces': []}}"
      ]
     },
     "execution_count": 32,
     "metadata": {},
     "output_type": "execute_result"
    }
   ],
   "source": [
    "resp.json()"
   ]
  },
  {
   "cell_type": "code",
   "execution_count": 31,
   "metadata": {},
   "outputs": [
    {
     "data": {
      "text/plain": [
       "201"
      ]
     },
     "execution_count": 31,
     "metadata": {},
     "output_type": "execute_result"
    }
   ],
   "source": [
    "resp.status_code"
   ]
  },
  {
   "cell_type": "code",
   "execution_count": 28,
   "metadata": {},
   "outputs": [
    {
     "data": {
      "text/plain": [
       "{'Date': 'Mon, 30 May 2022 06:05:37 GMT', 'Content-Type': 'text/plain', 'Transfer-Encoding': 'chunked', 'Connection': 'keep-alive', 'X-Sorting-Hat-PodId': '156', 'X-Sorting-Hat-ShopId': '55394369693', 'X-Shopify-Stage': 'production', 'Content-Security-Policy': \"frame-ancestors 'none'\", 'X-Content-Type-Options': 'nosniff', 'X-Download-Options': 'noopen', 'X-Permitted-Cross-Domain-Policies': 'none', 'X-XSS-Protection': '1; mode=block', 'X-Dc': 'gcp-asia-southeast1,gcp-us-east1,gcp-us-east1', 'X-Request-ID': 'dc6b71c5-6ddd-4376-8f20-8f928a72b972', 'CF-Cache-Status': 'DYNAMIC', 'Expect-CT': 'max-age=604800, report-uri=\"https://report-uri.cloudflare.com/cdn-cgi/beacon/expect-ct\"', 'Server': 'cloudflare', 'CF-RAY': '713547738ed82e32-BOM', 'alt-svc': 'h3=\":443\"; ma=86400, h3-29=\":443\"; ma=86400'}"
      ]
     },
     "execution_count": 28,
     "metadata": {},
     "output_type": "execute_result"
    }
   ],
   "source": [
    "resp.headers"
   ]
  },
  {
   "cell_type": "markdown",
   "metadata": {},
   "source": [
    "### Update Webhook Endpoint URL."
   ]
  },
  {
   "cell_type": "code",
   "execution_count": 19,
   "metadata": {},
   "outputs": [],
   "source": [
    "# curl -d '{\"webhook\":{\"id\":4759306,\"address\":\"https://somewhere-else.com/\"}}' \\\n",
    "# -X PUT \"https://your-development-store.myshopify.com/admin/api/2021-10/webhooks/4759306.json\" \\\n",
    "# -H \"X-Shopify-Access-Token: {access_token}\" \\\n",
    "# -H \"Content-Type: application/json\"\n",
    "\n",
    "## CHANGE THE NEWLY STARTED SERVER URL IN ENV FILE\n",
    "\n",
    "data_post_url = os.environ[\"NGROK_SERVER_URL\"]+ \"/checkout\"\n",
    "\n",
    "payload_data[\"webhook\"][\"address\"] = data_post_url"
   ]
  },
  {
   "cell_type": "code",
   "execution_count": 20,
   "metadata": {},
   "outputs": [
    {
     "data": {
      "text/plain": [
       "{'webhook': {'topic': 'orders/create',\n",
       "  'address': 'https://b2e8-1-186-186-116.in.ngrok.io/checkout',\n",
       "  'format': 'json'}}"
      ]
     },
     "execution_count": 20,
     "metadata": {},
     "output_type": "execute_result"
    }
   ],
   "source": [
    "payload_data"
   ]
  },
  {
   "cell_type": "code",
   "execution_count": 21,
   "metadata": {},
   "outputs": [
    {
     "data": {
      "text/plain": [
       "'1121373618333'"
      ]
     },
     "execution_count": 21,
     "metadata": {},
     "output_type": "execute_result"
    }
   ],
   "source": [
    "webhook_id = os.environ[\"WEBHOOK_ID\"]\n",
    "webhook_id"
   ]
  },
  {
   "cell_type": "code",
   "execution_count": 22,
   "metadata": {},
   "outputs": [],
   "source": [
    "put_request_url = f\"{app_url}/admin/api/2022-04/webhooks/{webhook_id}.json\""
   ]
  },
  {
   "cell_type": "code",
   "execution_count": 23,
   "metadata": {},
   "outputs": [],
   "source": [
    "resp_put = re.put(url = put_request_url,\n",
    "                    json=payload_data,\n",
    "                    headers=header_data    \n",
    "                )"
   ]
  },
  {
   "cell_type": "code",
   "execution_count": 24,
   "metadata": {},
   "outputs": [
    {
     "data": {
      "text/plain": [
       "200"
      ]
     },
     "execution_count": 24,
     "metadata": {},
     "output_type": "execute_result"
    }
   ],
   "source": [
    "resp_put.status_code"
   ]
  },
  {
   "cell_type": "code",
   "execution_count": 25,
   "metadata": {},
   "outputs": [
    {
     "data": {
      "text/plain": [
       "{'Date': 'Tue, 07 Jun 2022 14:51:03 GMT', 'Content-Type': 'application/json; charset=utf-8', 'Transfer-Encoding': 'chunked', 'Connection': 'keep-alive', 'X-Sorting-Hat-PodId': '156', 'X-Sorting-Hat-ShopId': '55394369693', 'Vary': 'Accept-Encoding', 'Referrer-Policy': 'origin-when-cross-origin', 'X-Frame-Options': 'DENY', 'X-ShopId': '55394369693', 'X-ShardId': '156', 'X-Stats-UserId': '', 'X-Stats-ApiClientId': '117243905', 'X-Stats-ApiPermissionId': '392937504925', 'X-Shopify-API-Terms': 'By accessing or using the Shopify API you agree to the Shopify API License and Terms of Use at https://www.shopify.com/legal/api-terms', 'X-Shopify-API-Version': '2022-04', 'HTTP_X_SHOPIFY_SHOP_API_CALL_LIMIT': '1/40', 'X-Shopify-Shop-Api-Call-Limit': '1/40', 'Location': 'https://teedee-shops.myshopify.com/admin/webhooks', 'Strict-Transport-Security': 'max-age=7889238', 'X-Shopify-Stage': 'production', 'Content-Security-Policy': \"default-src 'self' data: blob: 'unsafe-inline' 'unsafe-eval' https://* shopify-pos://*; block-all-mixed-content; child-src 'self' https://* shopify-pos://*; connect-src 'self' wss://* https://*; frame-ancestors 'none'; img-src 'self' data: blob: https:; script-src https://cdn.shopify.com https://cdn.shopifycdn.net https://checkout.shopifycs.com https://api.stripe.com https://mpsnare.iesnare.com https://appcenter.intuit.com https://www.paypal.com https://js.braintreegateway.com https://c.paypal.com https://maps.googleapis.com https://www.google-analytics.com https://v.shopify.com 'self' 'unsafe-inline' 'unsafe-eval'; upgrade-insecure-requests; report-uri /csp-report?source%5Baction%5D=update&source%5Bapp%5D=Shopify&source%5Bcontroller%5D=admin%2Fwebhooks&source%5Bsection%5D=admin_api&source%5Buuid%5D=06242b10-3ff8-4c55-9d83-5e3d983a0bd5\", 'X-Content-Type-Options': 'nosniff', 'X-Download-Options': 'noopen', 'X-Permitted-Cross-Domain-Policies': 'none', 'X-XSS-Protection': '1; mode=block; report=/xss-report?source%5Baction%5D=update&source%5Bapp%5D=Shopify&source%5Bcontroller%5D=admin%2Fwebhooks&source%5Bsection%5D=admin_api&source%5Buuid%5D=06242b10-3ff8-4c55-9d83-5e3d983a0bd5', 'X-Dc': 'gcp-asia-southeast1,gcp-us-east1,gcp-us-east1', 'Content-Encoding': 'gzip', 'X-Request-ID': '06242b10-3ff8-4c55-9d83-5e3d983a0bd5', 'CF-Cache-Status': 'DYNAMIC', 'Expect-CT': 'max-age=604800, report-uri=\"https://report-uri.cloudflare.com/cdn-cgi/beacon/expect-ct\"', 'Server': 'cloudflare', 'CF-RAY': '717a340b3ee331cf-BOM', 'alt-svc': 'h3=\":443\"; ma=86400, h3-29=\":443\"; ma=86400'}"
      ]
     },
     "execution_count": 25,
     "metadata": {},
     "output_type": "execute_result"
    }
   ],
   "source": [
    "resp_put.headers"
   ]
  },
  {
   "cell_type": "code",
   "execution_count": 26,
   "metadata": {},
   "outputs": [
    {
     "data": {
      "text/plain": [
       "{'webhook': {'id': 1121373618333,\n",
       "  'address': 'https://b2e8-1-186-186-116.in.ngrok.io/checkout',\n",
       "  'topic': 'orders/create',\n",
       "  'created_at': '2022-05-30T11:38:42+05:30',\n",
       "  'updated_at': '2022-06-07T20:21:02+05:30',\n",
       "  'format': 'json',\n",
       "  'fields': [],\n",
       "  'metafield_namespaces': [],\n",
       "  'api_version': '2022-04',\n",
       "  'private_metafield_namespaces': []}}"
      ]
     },
     "execution_count": 26,
     "metadata": {},
     "output_type": "execute_result"
    }
   ],
   "source": [
    "resp_put.json()"
   ]
  },
  {
   "cell_type": "code",
   "execution_count": null,
   "metadata": {},
   "outputs": [],
   "source": []
  }
 ],
 "metadata": {
  "interpreter": {
   "hash": "1d2e571ceb2bb22b3290522c82832ac985bf5a4a070be5d2347715f457da8a95"
  },
  "kernelspec": {
   "display_name": "Python 3.9.12 ('shopify_multipass')",
   "language": "python",
   "name": "python3"
  },
  "language_info": {
   "codemirror_mode": {
    "name": "ipython",
    "version": 3
   },
   "file_extension": ".py",
   "mimetype": "text/x-python",
   "name": "python",
   "nbconvert_exporter": "python",
   "pygments_lexer": "ipython3",
   "version": "3.9.12"
  },
  "orig_nbformat": 4
 },
 "nbformat": 4,
 "nbformat_minor": 2
}
